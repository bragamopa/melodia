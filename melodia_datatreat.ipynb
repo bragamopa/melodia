{
 "cells": [
  {
   "cell_type": "code",
   "execution_count": null,
   "metadata": {},
   "outputs": [],
   "source": [
    "import pandas as pd\n",
    "import numpy as np\n",
    "import matplotlib.pyplot as plt\n",
    "import plotly as ly"
   ]
  },
  {
   "cell_type": "code",
   "execution_count": null,
   "metadata": {},
   "outputs": [],
   "source": [
    "df_albums = pd.read_csv('spotify_albums.csv')\n",
    "df_albums_novo = df_albums.rename(columns={\"album_type\": \"tipo_album\", \"available_markets\": \"mercados_disponiveis\", \"name\": \"nome\", \"release_date\": \"data_lancamento\", \"total_tracks\": \"qtd_faixas\"})\n",
    "df_albums_novo = df_albums_novo.drop(['artist_id', 'external_urls', 'href', 'id', 'images', 'release_date_precision', 'track_id', 'track_name_prev', 'uri', 'type'], axis=1)\n",
    "df_albums_novo.head(1)"
   ]
  },
  {
   "cell_type": "code",
   "execution_count": null,
   "metadata": {},
   "outputs": [],
   "source": [
    "df_artists = pd.read_csv('spotify_artists.csv')\n",
    "df_artists_novo = df_artists.rename(columns={\"artist_popularity\": \"popularidade\", \"followers\": \"seguidores\", \"genres\": \"generos\", \"name\": \"nome\"})\n",
    "df_artists_novo = df_artists_novo.drop(['id', 'track_id', 'track_name_prev', 'type'], axis=1)\n",
    "df_artists_novo.head(1)"
   ]
  },
  {
   "cell_type": "code",
   "execution_count": null,
   "metadata": {},
   "outputs": [],
   "source": [
    "df_tracks = pd.read_csv('spotify_tracks.csv')\n",
    "df_tracks_novo = df_tracks.rename(columns={\"acousticness\": \"acusticidade\", \"available_markets\": \"mercados_disponiveis\", \"country\": \"pais\", \"danceability\": \"danceabilidade\", \"duration_ms\": \"duracao_ms\", \"energy\": \"energia\", \"instrumentalness\": \"instrumentalidade\", \"key\": \"chave\", \"liveness\": \"vivacidade\", \"loudness\": \"intensidade\", \"mode\": \"modo\", \"name\": \"nome\", \"popularity\": \"popularidade\", \"speechiness\": \"fala\", \"tempo\": \"andamento\", \"time_signature\": \"tempo_ritmico\", \"valence\": \"positividade\" })\n",
    "df_tracks_novo = df_tracks_novo.drop(['album_id', 'analysis_url', 'artists_id', 'disc_number', 'href', 'id', 'lyrics', 'playlist', 'preview_url', 'track_href', 'track_name_prev', 'track_number', 'uri', 'type'], axis=1)\n",
    "df_tracks_novo.head(1)"
   ]
  }
 ],
 "metadata": {
  "kernelspec": {
   "display_name": "Python 3",
   "language": "python",
   "name": "python3"
  },
  "language_info": {
   "codemirror_mode": {
    "name": "ipython",
    "version": 3
   },
   "file_extension": ".py",
   "mimetype": "text/x-python",
   "name": "python",
   "nbconvert_exporter": "python",
   "pygments_lexer": "ipython3",
   "version": "3.13.2"
  }
 },
 "nbformat": 4,
 "nbformat_minor": 2
}
