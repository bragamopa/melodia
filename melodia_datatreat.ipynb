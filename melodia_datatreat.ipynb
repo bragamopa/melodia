{
 "cells": [
  {
   "cell_type": "code",
   "execution_count": 17,
   "metadata": {},
   "outputs": [],
   "source": [
    "import pandas as pd\n",
    "import numpy as np\n",
    "import matplotlib.pyplot as plt\n",
    "import plotly as ly\n",
    "import seaborn as sns"
   ]
  },
  {
   "cell_type": "code",
   "execution_count": 44,
   "metadata": {},
   "outputs": [
    {
     "name": "stdout",
     "output_type": "stream",
     "text": [
      "<class 'pandas.core.frame.DataFrame'>\n",
      "Index: 75511 entries, 0 to 75510\n",
      "Data columns (total 15 columns):\n",
      " #   Column                  Non-Null Count  Dtype \n",
      "---  ------                  --------------  ----- \n",
      " 0   album_type              75511 non-null  object\n",
      " 1   artist_id               75511 non-null  object\n",
      " 2   available_markets       75511 non-null  object\n",
      " 3   external_urls           75511 non-null  object\n",
      " 4   href                    75511 non-null  object\n",
      " 5   id                      75511 non-null  object\n",
      " 6   images                  75511 non-null  object\n",
      " 7   name                    75511 non-null  object\n",
      " 8   release_date            75511 non-null  object\n",
      " 9   release_date_precision  75511 non-null  object\n",
      " 10  total_tracks            75511 non-null  int64 \n",
      " 11  track_id                75511 non-null  object\n",
      " 12  track_name_prev         75511 non-null  object\n",
      " 13  uri                     75511 non-null  object\n",
      " 14  type                    75511 non-null  object\n",
      "dtypes: int64(1), object(14)\n",
      "memory usage: 9.2+ MB\n"
     ]
    }
   ],
   "source": [
    "df_albums = pd.read_csv('spotify_albums.csv', index_col=0)\n",
    "df_albums.info()\n",
    "df_albums.drop(columns=[\"type\", \"images\"], inplace=True)"
   ]
  },
  {
   "cell_type": "code",
   "execution_count": 24,
   "metadata": {},
   "outputs": [
    {
     "name": "stdout",
     "output_type": "stream",
     "text": [
      "<class 'pandas.core.frame.DataFrame'>\n",
      "Index: 56129 entries, 0 to 56128\n",
      "Data columns (total 7 columns):\n",
      " #   Column             Non-Null Count  Dtype \n",
      "---  ------             --------------  ----- \n",
      " 0   artist_popularity  56129 non-null  int64 \n",
      " 1   followers          56129 non-null  int64 \n",
      " 2   genres             56129 non-null  object\n",
      " 3   id                 56129 non-null  object\n",
      " 4   name               56128 non-null  object\n",
      " 5   track_id           56129 non-null  object\n",
      " 6   track_name_prev    56129 non-null  object\n",
      "dtypes: int64(2), object(5)\n",
      "memory usage: 3.4+ MB\n"
     ]
    }
   ],
   "source": [
    "df_artists = pd.read_csv('spotify_artists.csv', index_col=0)\n",
    "df_artists.drop(columns=[\"type\"], inplace=True)\n",
    "df_artists.info()"
   ]
  },
  {
   "cell_type": "code",
   "execution_count": null,
   "metadata": {},
   "outputs": [
    {
     "name": "stdout",
     "output_type": "stream",
     "text": [
      "<class 'pandas.core.frame.DataFrame'>\n",
      "Index: 101939 entries, 0 to 101938\n",
      "Data columns (total 28 columns):\n",
      " #   Column             Non-Null Count   Dtype  \n",
      "---  ------             --------------   -----  \n",
      " 0   acousticness       101939 non-null  float64\n",
      " 1   album_id           101939 non-null  object \n",
      " 2   analysis_url       101939 non-null  object \n",
      " 3   artists_id         101939 non-null  object \n",
      " 4   available_markets  101939 non-null  object \n",
      " 5   country            101939 non-null  object \n",
      " 6   danceability       101939 non-null  float64\n",
      " 7   disc_number        101939 non-null  float64\n",
      " 8   duration_ms        101939 non-null  float64\n",
      " 9   energy             101939 non-null  float64\n",
      " 10  href               101939 non-null  object \n",
      " 11  id                 101939 non-null  object \n",
      " 12  instrumentalness   101939 non-null  float64\n",
      " 13  key                101939 non-null  float64\n",
      " 14  liveness           101939 non-null  float64\n",
      " 15  loudness           101939 non-null  float64\n",
      " 16  mode               101939 non-null  float64\n",
      " 17  playlist           101939 non-null  object \n",
      " 18  popularity         101939 non-null  float64\n",
      " 19  preview_url        101939 non-null  object \n",
      " 20  speechiness        101939 non-null  float64\n",
      " 21  tempo              101939 non-null  float64\n",
      " 22  time_signature     101939 non-null  float64\n",
      " 23  track_href         101939 non-null  object \n",
      " 24  track_name_prev    101939 non-null  object \n",
      " 25  track_number       101939 non-null  float64\n",
      " 26  uri                101939 non-null  object \n",
      " 27  valence            101939 non-null  float64\n",
      "dtypes: float64(16), object(12)\n",
      "memory usage: 22.6+ MB\n"
     ]
    },
    {
     "data": {
      "text/plain": [
       "0         ['3mxJuHRn2ZWD5OofvJtDZY']\n",
       "1         ['4xWMewm6CYMstu0sPgd9jJ']\n",
       "2         ['3hYaK5FF3YAglCj5HZgBnP']\n",
       "3         ['2KQsUB9DRBcJk17JWX1eXD']\n",
       "4         ['3hYaK5FF3YAglCj5HZgBnP']\n",
       "                     ...            \n",
       "101934    ['6n3YUZcayLRuAunJUUelvz']\n",
       "101935    ['4iudEcmuPlYNdbP3e1bdn1']\n",
       "101936    ['4iudEcmuPlYNdbP3e1bdn1']\n",
       "101937    ['023YMawCG3OvACmRjWxLWC']\n",
       "101938    ['6OgAO7QYncP5feMijPxBxi']\n",
       "Name: artists_id, Length: 101939, dtype: object"
      ]
     },
     "execution_count": 42,
     "metadata": {},
     "output_type": "execute_result"
    }
   ],
   "source": [
    "df_tracks = pd.read_csv('spotify_tracks.csv', index_col=0)\n",
    "df_tracks.drop(columns=[\"type\", \"lyrics\", \"name\"], inplace=True)\n",
    "df_tracks.info()\n"
   ]
  },
  {
   "cell_type": "code",
   "execution_count": null,
   "metadata": {},
   "outputs": [],
   "source": []
  }
 ],
 "metadata": {
  "kernelspec": {
   "display_name": "base",
   "language": "python",
   "name": "python3"
  },
  "language_info": {
   "codemirror_mode": {
    "name": "ipython",
    "version": 3
   },
   "file_extension": ".py",
   "mimetype": "text/x-python",
   "name": "python",
   "nbconvert_exporter": "python",
   "pygments_lexer": "ipython3",
   "version": "3.11.7"
  }
 },
 "nbformat": 4,
 "nbformat_minor": 2
}
